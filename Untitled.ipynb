{
 "cells": [
  {
   "cell_type": "code",
   "execution_count": 28,
   "id": "ce9c8e17-64fe-439a-8d97-f2b13f29cd82",
   "metadata": {},
   "outputs": [],
   "source": [
    "import glob\n",
    "from pathlib import Path\n",
    "import random\n",
    "import shutil\n",
    "\n",
    "src = Path(\"./.datasets/facial_emotion/\")\n",
    "des = Path(\"./.datasets/splited_facial_emotion/\")\n",
    "\n",
    "train = 0.7\n",
    "val = 0.2\n",
    "test = 0.1\n",
    "num_of_img = 2400\n",
    "\n",
    "class_paths = glob.glob(str(src / '*'))\n",
    "\n",
    "for class_path in (class_paths):\n",
    "    class_name = class_path.split('\\\\')[-1]\n",
    "\n",
    "    img_paths = glob.glob(class_path + '/*')\n",
    "    random.shuffle(img_paths)\n",
    "\n",
    "    for i, img_path in enumerate(img_paths):\n",
    "        img_name = img_path.split('\\\\')[-1]\n",
    "        \n",
    "        if i <= int(num_of_img * train):\n",
    "            tar = \"train\"\n",
    "        elif i <= int(num_of_img * (train+val)):\n",
    "            tar = \"val\"\n",
    "        else:\n",
    "            tar = \"test\"\n",
    "        \n",
    "        des_class = des / tar / class_name \n",
    "        des_class.mkdir(parents=True, exist_ok=True)\n",
    " \n",
    "        shutil.copy(img_path, des_class / img_name)\n",
    "        if i == num_of_img: break"
   ]
  }
 ],
 "metadata": {
  "kernelspec": {
   "display_name": "Python 3 (ipykernel)",
   "language": "python",
   "name": "python3"
  },
  "language_info": {
   "codemirror_mode": {
    "name": "ipython",
    "version": 3
   },
   "file_extension": ".py",
   "mimetype": "text/x-python",
   "name": "python",
   "nbconvert_exporter": "python",
   "pygments_lexer": "ipython3",
   "version": "3.11.9"
  }
 },
 "nbformat": 4,
 "nbformat_minor": 5
}
